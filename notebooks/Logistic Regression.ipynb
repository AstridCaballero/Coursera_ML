{
 "cells": [
  {
   "cell_type": "code",
   "execution_count": 152,
   "metadata": {},
   "outputs": [],
   "source": [
    "import numpy as np\n",
    "import pandas as pd\n",
    "import matplotlib.pyplot as plt\n",
    "import seaborn as sns\n",
    "import scipy.optimize as opt\n",
    "\n",
    "# Figures inline and set visualization style\n",
    "%matplotlib inline\n",
    "sns.set()"
   ]
  },
  {
   "cell_type": "code",
   "execution_count": 391,
   "metadata": {},
   "outputs": [
    {
     "data": {
      "text/plain": [
       "(100, 3)"
      ]
     },
     "execution_count": 391,
     "metadata": {},
     "output_type": "execute_result"
    }
   ],
   "source": [
    "# load the data\n",
    "data = '/Users/astrid/Documents/Machine_learning/machine-learning-ex2/ex2/ex2data1.txt'\n",
    "df = pd.read_csv(data, header=None)\n",
    "df.columns=['exam1','exam2','admitted']\n",
    "df.head()\n",
    "df.shape"
   ]
  },
  {
   "cell_type": "code",
   "execution_count": 392,
   "metadata": {},
   "outputs": [],
   "source": [
    "# Create the matrices\n",
    "X = np.matrix(df)[:,:2]\n",
    "y = np.matrix(df)[:,2]\n",
    "\n",
    "# add ones to matrix X\n",
    "X = np.insert(X,0,1.0,axis=1)\n",
    "\n",
    "# create initia theta\n",
    "initial_theta = np.zeros((X.shape[1],1)) # X.shape returns (m,n), X.shape[1] returns n\n"
   ]
  },
  {
   "cell_type": "code",
   "execution_count": 393,
   "metadata": {},
   "outputs": [
    {
     "data": {
      "text/plain": [
       "array([[ 0.],\n",
       "       [ 0.],\n",
       "       [ 0.]])"
      ]
     },
     "execution_count": 393,
     "metadata": {},
     "output_type": "execute_result"
    }
   ],
   "source": [
    "initial_theta #.reshape(1,X.shape[1])"
   ]
  },
  {
   "cell_type": "code",
   "execution_count": 394,
   "metadata": {},
   "outputs": [
    {
     "data": {
      "image/png": "[encoded data removed]",
      "text/plain": [
       "<matplotlib.figure.Figure at 0x1a148d6860>"
      ]
     },
     "metadata": {},
     "output_type": "display_data"
    }
   ],
   "source": [
    "# Plot the data\n",
    "positive = df[df['admitted'].isin([1])] \n",
    "negative = df[df['admitted'].isin([0])]\n",
    "\n",
    "#df.plot('exam1','exam2',c='admitted' ,kind='scatter',cmap=plt.cm.autumn)\n",
    "fig, ax = plt.subplots(figsize=(12,8))  \n",
    "ax.scatter(positive['exam1'], positive['exam2'], s=50, c='b', marker='o', label='Admitted')  \n",
    "ax.scatter(negative['exam1'], negative['exam2'], s=50, c='r', marker='x', label='Not Admitted')  \n",
    "ax.legend()  \n",
    "ax.set_xlabel('Exam 1 Score')  \n",
    "ax.set_ylabel('Exam 2 Score')  \n",
    "plt.show;"
   ]
  },
  {
   "cell_type": "code",
   "execution_count": 251,
   "metadata": {},
   "outputs": [],
   "source": [
    "# Sigmoid function\n",
    "def sigmoid_f(z):\n",
    "    g = 1/(1+ np.exp(-z))    \n",
    "    return g"
   ]
  },
  {
   "cell_type": "code",
   "execution_count": 255,
   "metadata": {},
   "outputs": [],
   "source": [
    "sigmoid_f(np.dot(X,initial_theta));"
   ]
  },
  {
   "cell_type": "code",
   "execution_count": 277,
   "metadata": {},
   "outputs": [],
   "source": [
    "# Cost function\n",
    "def compute_cost(theta,X,y):   \n",
    "    m,n = X.shape\n",
    "    theta = theta.reshape((n,1)); # the minimising function returns a new theta in a row form (1,n), because of this we need to reshape it to (n,1)\n",
    "    J= (-1/m)*(sum(np.multiply(y,np.log(sigmoid_f(np.dot(X,theta)))) + \n",
    "            (np.multiply((1-y),np.log(1-(sigmoid_f(np.dot(X,theta))))))))\n",
    "    grad = (1/m)*(np.transpose(X)*((sigmoid_f(np.dot(X,theta)))-y))\n",
    "    return J ,grad"
   ]
  },
  {
   "cell_type": "code",
   "execution_count": 279,
   "metadata": {},
   "outputs": [
    {
     "data": {
      "text/plain": [
       "(matrix([[ 0.69314718]]), matrix([[ -0.1       ],\n",
       "         [-12.00921659],\n",
       "         [-11.26284221]]))"
      ]
     },
     "execution_count": 279,
     "metadata": {},
     "output_type": "execute_result"
    }
   ],
   "source": [
    "compute_cost(initial_theta,X,y)"
   ]
  },
  {
   "cell_type": "code",
   "execution_count": 269,
   "metadata": {},
   "outputs": [
    {
     "name": "stdout",
     "output_type": "stream",
     "text": [
      "(matrix([[ 0.69314718]]), matrix([[ -0.1       ],\n",
      "        [-12.00921659],\n",
      "        [-11.26284221]]))\n"
     ]
    }
   ],
   "source": [
    "print(compute_cost(initial_theta,X,y))"
   ]
  },
  {
   "cell_type": "code",
   "execution_count": 244,
   "metadata": {},
   "outputs": [
    {
     "data": {
      "text/plain": [
       "[[-24], [0.2], [0.2]]"
      ]
     },
     "execution_count": 244,
     "metadata": {},
     "output_type": "execute_result"
    }
   ],
   "source": [
    "test_theta = ([[-24],[0.2], [0.2]])\n",
    "test_theta"
   ]
  },
  {
   "cell_type": "code",
   "execution_count": 245,
   "metadata": {},
   "outputs": [
    {
     "data": {
      "text/plain": [
       "(matrix([[ 0.21833019]]), matrix([[ 0.04290299],\n",
       "         [ 2.56623412],\n",
       "         [ 2.64679737]]))"
      ]
     },
     "execution_count": 245,
     "metadata": {},
     "output_type": "execute_result"
    }
   ],
   "source": [
    "compute_cost(test_theta, X, y)"
   ]
  },
  {
   "cell_type": "code",
   "execution_count": 395,
   "metadata": {},
   "outputs": [
    {
     "name": "stdout",
     "output_type": "stream",
     "text": [
      "[[ 0.2034977]]\n",
      "[-25.16131869   0.20623159   0.20147149]\n"
     ]
    }
   ],
   "source": [
    "# fminunc / tnc\n",
    "result = opt.minimize(fun=compute_cost,x0=initial_theta,args=(X, y),\n",
    "                      method='TNC',jac=True,options={'maxiter':400});  \n",
    "cost = result.fun\n",
    "optimum_theta = result.x # it comes as a row instead of (n,1)\n",
    "\n",
    "print (cost)\n",
    "print(optimum_theta)"
   ]
  },
  {
   "cell_type": "code",
   "execution_count": 410,
   "metadata": {},
   "outputs": [],
   "source": [
    "# Prediction function\n",
    "def predict(theta, X):\n",
    "    m = X.size\n",
    "    p = sigmoid_f(X*theta)>= 0.5 \n",
    "    return p.astype(int)"
   ]
  },
  {
   "cell_type": "code",
   "execution_count": 365,
   "metadata": {},
   "outputs": [
    {
     "name": "stdout",
     "output_type": "stream",
     "text": [
      "[[ 0.77629062]]\n"
     ]
    }
   ],
   "source": [
    "X_test = np.matrix([1,45,85])\n",
    "prob=sigmoid_f(X_test*theta)\n",
    "#print(predict(optimum_theta,X))\n",
    "print(prob)\n",
    "               "
   ]
  },
  {
   "cell_type": "code",
   "execution_count": 414,
   "metadata": {},
   "outputs": [
    {
     "name": "stdout",
     "output_type": "stream",
     "text": [
      "89.0\n"
     ]
    }
   ],
   "source": [
    "# Accuracy\n",
    "m,n = X.shape\n",
    "#theta = theta.reshape((n,1))\n",
    "optimum_theta = np.matrix(optimum_theta).reshape((n,1))\n",
    "p=predict(optimum_theta,X);\n",
    "print(np.mean(p==y)*100)"
   ]
  }
 ],
 "metadata": {
  "kernelspec": {
   "display_name": "Python 3",
   "language": "python",
   "name": "python3"
  },
  "language_info": {
   "codemirror_mode": {
    "name": "ipython",
    "version": 3
   },
   "file_extension": ".py",
   "mimetype": "text/x-python",
   "name": "python",
   "nbconvert_exporter": "python",
   "pygments_lexer": "ipython3",
   "version": "3.6.3"
  }
 },
 "nbformat": 4,
 "nbformat_minor": 2
}
